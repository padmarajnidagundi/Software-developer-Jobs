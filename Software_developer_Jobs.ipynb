{
  "cells": [
    {
      "cell_type": "markdown",
      "metadata": {
        "id": "view-in-github",
        "colab_type": "text"
      },
      "source": [
        "<a href=\"https://colab.research.google.com/github/padmarajnidagundi/Software-developer-Jobs/blob/main/Software_developer_Jobs.ipynb\" target=\"_parent\"><img src=\"https://colab.research.google.com/assets/colab-badge.svg\" alt=\"Open In Colab\"/></a>"
      ]
    },
    {
      "cell_type": "code",
      "execution_count": 5,
      "metadata": {
        "colab": {
          "base_uri": "https://localhost:8080/"
        },
        "id": "kV_UgZbX4UnW",
        "outputId": "fa6680dd-8dd9-4291-a962-c1bc46fc4ced"
      },
      "outputs": [
        {
          "output_type": "stream",
          "name": "stdout",
          "text": [
            "getting page,0\n",
            "getting page,10\n",
            "getting page,20\n",
            "getting page,30\n",
            "getting page,40\n",
            "getting page,50\n",
            "getting page,60\n",
            "getting page,70\n",
            "getting page,80\n",
            "getting page,90\n",
            "                                      title    company  \\\n",
            "0                     newSoftware Developer   One Call   \n",
            "1         Software Development (All Levels)   Insurity   \n",
            "2     newC++ Engineer, Developer Experience    Spotify   \n",
            "3  Software Engineer-Work from home-eviCore      Cigna   \n",
            "4                      Junior Web Developer  GetUWired   \n",
            "\n",
            "                      salary  \\\n",
            "0                              \n",
            "1                              \n",
            "2                              \n",
            "3  $95,900 - $159,800 a year   \n",
            "4                  Full-time   \n",
            "\n",
            "                                             summary  \n",
            "0  Provides application software development serv...  \n",
            "1  Additionally, as you grow within your career a...  \n",
            "2  We are seeking an experienced C++ engineer to ...  \n",
            "3  Troubleshooting complex problems, identifying ...  \n",
            "4  GetUWired’s junior web developers work with ou...  \n"
          ]
        }
      ],
      "source": [
        "# Find Software developer Jobs on indeed\n",
        "import requests\n",
        "from bs4 import BeautifulSoup\n",
        "import pandas as pd\n",
        "def extract(page):\n",
        "    headers = {'User-Agent': 'Mozilla/5.0 (Windows NT 10.0; Win64; x64; rv:94.0) Gecko/20100101 Firefox/94.0'}\n",
        "    url = f'https://www.indeed.com/jobs?q=software developer&l=Remote&remotejob=032b3046-06a3-4876-8dfd-474eb5e7ed11&start={page}'\n",
        "    r=requests.get(url, headers)\n",
        "    soup = BeautifulSoup(r.content, 'html.parser')\n",
        "    return soup\n",
        "def transform(soup):\n",
        "    divs= soup.find_all('div', class_ = 'slider_container')\n",
        "    for item in divs:\n",
        "        title=item.find('h2').text.strip()\n",
        "        company = item.find('span', class_ ='companyName').text.strip()\n",
        "        try:\n",
        "            salary = item.find('div', class_ = \"attribute_snippet\").text.strip()\n",
        "        except:\n",
        "            salary = ''\n",
        "        summary = item.find('div', class_ ='job-snippet').text.strip().replace('\\n','')\n",
        "        job = {\n",
        "            'title' : title,\n",
        "            'company': company,\n",
        "            'salary': salary,\n",
        "            'summary': summary,\n",
        "        }\n",
        "        joblist.append(job)\n",
        "    return\n",
        "joblist=[]\n",
        "for i in range(0,100, 10):\n",
        "    print (f\"getting page,{i}\")\n",
        "    c = extract(0)\n",
        "    transform(c)\n",
        "df = pd.DataFrame(joblist)\n",
        "print (df.head())\n",
        "df.to_html('JobResults.html')\n"
      ]
    }
  ],
  "metadata": {
    "colab": {
      "name": "Software-developer-Jobs.ipynb",
      "provenance": [],
      "authorship_tag": "ABX9TyNvxAvQhxPYZAAB95FBwCOg",
      "include_colab_link": true
    },
    "kernelspec": {
      "display_name": "Python 3",
      "name": "python3"
    },
    "language_info": {
      "name": "python"
    }
  },
  "nbformat": 4,
  "nbformat_minor": 0
}